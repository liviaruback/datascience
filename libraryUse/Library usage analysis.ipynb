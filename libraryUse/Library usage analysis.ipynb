{
 "cells": [
  {
   "cell_type": "markdown",
   "metadata": {
    "colab_type": "text",
    "id": "cpwsxUdOthZh"
   },
   "source": [
    "# Importing public library data in San Francisco from Data.Gov   \n",
    "\n",
    "https://catalog.data.gov/dataset/library-usage\n",
    "\n",
    "The Integrated Library System (ILS) is composed of bibliographic records including inventoried items, and patron records including circulation data. The data is used in the daily operation of the library, including circulation, online public catalog, cataloging, acquisitions, collection development, processing, and serials control. This dataset represents the usage of inventoried items by patrons\n"
   ]
  },
  {
   "cell_type": "code",
   "execution_count": 93,
   "metadata": {
    "colab": {},
    "colab_type": "code",
    "id": "fuynGZ8jDsca"
   },
   "outputs": [],
   "source": [
    "import pandas as pd\n",
    "FILE = \"Library_Usage.csv\"\n",
    "library = pd.read_csv(FILE)"
   ]
  },
  {
   "cell_type": "code",
   "execution_count": 95,
   "metadata": {
    "colab": {
     "base_uri": "https://localhost:8080/",
     "height": 359
    },
    "colab_type": "code",
    "executionInfo": {
     "elapsed": 315,
     "status": "ok",
     "timestamp": 1556675291075,
     "user": {
      "displayName": "Lívia Ruback",
      "photoUrl": "https://lh6.googleusercontent.com/-_vpLCTfwUeI/AAAAAAAAAAI/AAAAAAAAGmA/mwpOOQqv9WU/s64/photo.jpg",
      "userId": "01191604904967317013"
     },
     "user_tz": 420
    },
    "id": "hqpt9aNxE2u0",
    "outputId": "b5a6a0c0-f8c1-44ef-9e9b-ddba02328a3b"
   },
   "outputs": [
    {
     "data": {
      "text/html": [
       "<div>\n",
       "<style>\n",
       "    .dataframe thead tr:only-child th {\n",
       "        text-align: right;\n",
       "    }\n",
       "\n",
       "    .dataframe thead th {\n",
       "        text-align: left;\n",
       "    }\n",
       "\n",
       "    .dataframe tbody tr th {\n",
       "        vertical-align: top;\n",
       "    }\n",
       "</style>\n",
       "<table border=\"1\" class=\"dataframe\">\n",
       "  <thead>\n",
       "    <tr style=\"text-align: right;\">\n",
       "      <th></th>\n",
       "      <th>Patron Type Code</th>\n",
       "      <th>Patron Type Definition</th>\n",
       "      <th>Total Checkouts</th>\n",
       "      <th>Total Renewals</th>\n",
       "      <th>Age Range</th>\n",
       "      <th>Home Library Code</th>\n",
       "      <th>Home Library Definition</th>\n",
       "      <th>Circulation Active Month</th>\n",
       "      <th>Circulation Active Year</th>\n",
       "      <th>Notice Preference Code</th>\n",
       "      <th>...</th>\n",
       "      <th>Outside of County</th>\n",
       "      <th>Supervisor District</th>\n",
       "      <th>Location (address)</th>\n",
       "      <th>Location (city)</th>\n",
       "      <th>Location (state)</th>\n",
       "      <th>Location (zip)</th>\n",
       "      <th>SF Find Neighborhoods</th>\n",
       "      <th>Current Police Districts</th>\n",
       "      <th>Current Supervisor Districts</th>\n",
       "      <th>Analysis Neighborhoods</th>\n",
       "    </tr>\n",
       "  </thead>\n",
       "  <tbody>\n",
       "    <tr>\n",
       "      <th>0</th>\n",
       "      <td>1</td>\n",
       "      <td>JUVENILE</td>\n",
       "      <td>518</td>\n",
       "      <td>8</td>\n",
       "      <td>10 to 19 years</td>\n",
       "      <td>V3</td>\n",
       "      <td>Visitacion Valley</td>\n",
       "      <td>July</td>\n",
       "      <td>2016</td>\n",
       "      <td>p</td>\n",
       "      <td>...</td>\n",
       "      <td>False</td>\n",
       "      <td>10.0</td>\n",
       "      <td>NaN</td>\n",
       "      <td>NaN</td>\n",
       "      <td>NaN</td>\n",
       "      <td>NaN</td>\n",
       "      <td>NaN</td>\n",
       "      <td>NaN</td>\n",
       "      <td>NaN</td>\n",
       "      <td>NaN</td>\n",
       "    </tr>\n",
       "    <tr>\n",
       "      <th>1</th>\n",
       "      <td>1</td>\n",
       "      <td>JUVENILE</td>\n",
       "      <td>38</td>\n",
       "      <td>0</td>\n",
       "      <td>0 to 9 years</td>\n",
       "      <td>P1</td>\n",
       "      <td>Park</td>\n",
       "      <td>June</td>\n",
       "      <td>2016</td>\n",
       "      <td>z</td>\n",
       "      <td>...</td>\n",
       "      <td>False</td>\n",
       "      <td>4.0</td>\n",
       "      <td>NaN</td>\n",
       "      <td>NaN</td>\n",
       "      <td>NaN</td>\n",
       "      <td>NaN</td>\n",
       "      <td>NaN</td>\n",
       "      <td>NaN</td>\n",
       "      <td>NaN</td>\n",
       "      <td>NaN</td>\n",
       "    </tr>\n",
       "    <tr>\n",
       "      <th>2</th>\n",
       "      <td>0</td>\n",
       "      <td>ADULT</td>\n",
       "      <td>38</td>\n",
       "      <td>4</td>\n",
       "      <td>10 to 19 years</td>\n",
       "      <td>N4</td>\n",
       "      <td>Noe Valley/Sally Brunn</td>\n",
       "      <td>November</td>\n",
       "      <td>2008</td>\n",
       "      <td>z</td>\n",
       "      <td>...</td>\n",
       "      <td>False</td>\n",
       "      <td>8.0</td>\n",
       "      <td>NaN</td>\n",
       "      <td>NaN</td>\n",
       "      <td>NaN</td>\n",
       "      <td>NaN</td>\n",
       "      <td>NaN</td>\n",
       "      <td>NaN</td>\n",
       "      <td>NaN</td>\n",
       "      <td>NaN</td>\n",
       "    </tr>\n",
       "    <tr>\n",
       "      <th>3</th>\n",
       "      <td>0</td>\n",
       "      <td>ADULT</td>\n",
       "      <td>48</td>\n",
       "      <td>48</td>\n",
       "      <td>20 to 24 years</td>\n",
       "      <td>O7</td>\n",
       "      <td>Ortega</td>\n",
       "      <td>February</td>\n",
       "      <td>2013</td>\n",
       "      <td>p</td>\n",
       "      <td>...</td>\n",
       "      <td>False</td>\n",
       "      <td>10.0</td>\n",
       "      <td>NaN</td>\n",
       "      <td>NaN</td>\n",
       "      <td>NaN</td>\n",
       "      <td>NaN</td>\n",
       "      <td>NaN</td>\n",
       "      <td>NaN</td>\n",
       "      <td>NaN</td>\n",
       "      <td>NaN</td>\n",
       "    </tr>\n",
       "    <tr>\n",
       "      <th>4</th>\n",
       "      <td>1</td>\n",
       "      <td>JUVENILE</td>\n",
       "      <td>28</td>\n",
       "      <td>13</td>\n",
       "      <td>0 to 9 years</td>\n",
       "      <td>E9</td>\n",
       "      <td>Excelsior</td>\n",
       "      <td>June</td>\n",
       "      <td>2016</td>\n",
       "      <td>z</td>\n",
       "      <td>...</td>\n",
       "      <td>False</td>\n",
       "      <td>11.0</td>\n",
       "      <td>NaN</td>\n",
       "      <td>NaN</td>\n",
       "      <td>NaN</td>\n",
       "      <td>NaN</td>\n",
       "      <td>NaN</td>\n",
       "      <td>NaN</td>\n",
       "      <td>NaN</td>\n",
       "      <td>NaN</td>\n",
       "    </tr>\n",
       "    <tr>\n",
       "      <th>5</th>\n",
       "      <td>1</td>\n",
       "      <td>JUVENILE</td>\n",
       "      <td>1</td>\n",
       "      <td>0</td>\n",
       "      <td>10 to 19 years</td>\n",
       "      <td>M4</td>\n",
       "      <td>Merced</td>\n",
       "      <td>May</td>\n",
       "      <td>2016</td>\n",
       "      <td>z</td>\n",
       "      <td>...</td>\n",
       "      <td>False</td>\n",
       "      <td>11.0</td>\n",
       "      <td>NaN</td>\n",
       "      <td>NaN</td>\n",
       "      <td>NaN</td>\n",
       "      <td>NaN</td>\n",
       "      <td>NaN</td>\n",
       "      <td>NaN</td>\n",
       "      <td>NaN</td>\n",
       "      <td>NaN</td>\n",
       "    </tr>\n",
       "    <tr>\n",
       "      <th>6</th>\n",
       "      <td>1</td>\n",
       "      <td>JUVENILE</td>\n",
       "      <td>293</td>\n",
       "      <td>11</td>\n",
       "      <td>0 to 9 years</td>\n",
       "      <td>M6</td>\n",
       "      <td>Mission</td>\n",
       "      <td>June</td>\n",
       "      <td>2016</td>\n",
       "      <td>z</td>\n",
       "      <td>...</td>\n",
       "      <td>False</td>\n",
       "      <td>8.0</td>\n",
       "      <td>NaN</td>\n",
       "      <td>NaN</td>\n",
       "      <td>NaN</td>\n",
       "      <td>NaN</td>\n",
       "      <td>NaN</td>\n",
       "      <td>NaN</td>\n",
       "      <td>NaN</td>\n",
       "      <td>NaN</td>\n",
       "    </tr>\n",
       "    <tr>\n",
       "      <th>7</th>\n",
       "      <td>1</td>\n",
       "      <td>JUVENILE</td>\n",
       "      <td>900</td>\n",
       "      <td>6</td>\n",
       "      <td>0 to 9 years</td>\n",
       "      <td>V3</td>\n",
       "      <td>Visitacion Valley</td>\n",
       "      <td>June</td>\n",
       "      <td>2016</td>\n",
       "      <td>a</td>\n",
       "      <td>...</td>\n",
       "      <td>False</td>\n",
       "      <td>10.0</td>\n",
       "      <td>NaN</td>\n",
       "      <td>NaN</td>\n",
       "      <td>NaN</td>\n",
       "      <td>NaN</td>\n",
       "      <td>NaN</td>\n",
       "      <td>NaN</td>\n",
       "      <td>NaN</td>\n",
       "      <td>NaN</td>\n",
       "    </tr>\n",
       "    <tr>\n",
       "      <th>8</th>\n",
       "      <td>1</td>\n",
       "      <td>JUVENILE</td>\n",
       "      <td>1569</td>\n",
       "      <td>801</td>\n",
       "      <td>10 to 19 years</td>\n",
       "      <td>W4</td>\n",
       "      <td>Western Addition</td>\n",
       "      <td>July</td>\n",
       "      <td>2016</td>\n",
       "      <td>z</td>\n",
       "      <td>...</td>\n",
       "      <td>False</td>\n",
       "      <td>8.0</td>\n",
       "      <td>NaN</td>\n",
       "      <td>NaN</td>\n",
       "      <td>NaN</td>\n",
       "      <td>NaN</td>\n",
       "      <td>NaN</td>\n",
       "      <td>NaN</td>\n",
       "      <td>NaN</td>\n",
       "      <td>NaN</td>\n",
       "    </tr>\n",
       "    <tr>\n",
       "      <th>9</th>\n",
       "      <td>1</td>\n",
       "      <td>JUVENILE</td>\n",
       "      <td>45</td>\n",
       "      <td>0</td>\n",
       "      <td>0 to 9 years</td>\n",
       "      <td>A5</td>\n",
       "      <td>Anza</td>\n",
       "      <td>June</td>\n",
       "      <td>2016</td>\n",
       "      <td>z</td>\n",
       "      <td>...</td>\n",
       "      <td>False</td>\n",
       "      <td>1.0</td>\n",
       "      <td>NaN</td>\n",
       "      <td>NaN</td>\n",
       "      <td>NaN</td>\n",
       "      <td>NaN</td>\n",
       "      <td>NaN</td>\n",
       "      <td>NaN</td>\n",
       "      <td>NaN</td>\n",
       "      <td>NaN</td>\n",
       "    </tr>\n",
       "  </tbody>\n",
       "</table>\n",
       "<p>10 rows × 23 columns</p>\n",
       "</div>"
      ],
      "text/plain": [
       "   Patron Type Code Patron Type Definition  Total Checkouts  Total Renewals  \\\n",
       "0                 1               JUVENILE              518               8   \n",
       "1                 1               JUVENILE               38               0   \n",
       "2                 0                  ADULT               38               4   \n",
       "3                 0                  ADULT               48              48   \n",
       "4                 1               JUVENILE               28              13   \n",
       "5                 1               JUVENILE                1               0   \n",
       "6                 1               JUVENILE              293              11   \n",
       "7                 1               JUVENILE              900               6   \n",
       "8                 1               JUVENILE             1569             801   \n",
       "9                 1               JUVENILE               45               0   \n",
       "\n",
       "        Age Range Home Library Code Home Library Definition  \\\n",
       "0  10 to 19 years                V3       Visitacion Valley   \n",
       "1    0 to 9 years                P1                    Park   \n",
       "2  10 to 19 years                N4  Noe Valley/Sally Brunn   \n",
       "3  20 to 24 years                O7                  Ortega   \n",
       "4    0 to 9 years                E9               Excelsior   \n",
       "5  10 to 19 years                M4                  Merced   \n",
       "6    0 to 9 years                M6                 Mission   \n",
       "7    0 to 9 years                V3       Visitacion Valley   \n",
       "8  10 to 19 years                W4        Western Addition   \n",
       "9    0 to 9 years                A5                    Anza   \n",
       "\n",
       "  Circulation Active Month Circulation Active Year Notice Preference Code  \\\n",
       "0                     July                    2016                      p   \n",
       "1                     June                    2016                      z   \n",
       "2                 November                    2008                      z   \n",
       "3                 February                    2013                      p   \n",
       "4                     June                    2016                      z   \n",
       "5                      May                    2016                      z   \n",
       "6                     June                    2016                      z   \n",
       "7                     June                    2016                      a   \n",
       "8                     July                    2016                      z   \n",
       "9                     June                    2016                      z   \n",
       "\n",
       "            ...           Outside of County  Supervisor District  \\\n",
       "0           ...                       False                 10.0   \n",
       "1           ...                       False                  4.0   \n",
       "2           ...                       False                  8.0   \n",
       "3           ...                       False                 10.0   \n",
       "4           ...                       False                 11.0   \n",
       "5           ...                       False                 11.0   \n",
       "6           ...                       False                  8.0   \n",
       "7           ...                       False                 10.0   \n",
       "8           ...                       False                  8.0   \n",
       "9           ...                       False                  1.0   \n",
       "\n",
       "   Location (address)  Location (city)  Location (state)  Location (zip)  \\\n",
       "0                 NaN              NaN               NaN             NaN   \n",
       "1                 NaN              NaN               NaN             NaN   \n",
       "2                 NaN              NaN               NaN             NaN   \n",
       "3                 NaN              NaN               NaN             NaN   \n",
       "4                 NaN              NaN               NaN             NaN   \n",
       "5                 NaN              NaN               NaN             NaN   \n",
       "6                 NaN              NaN               NaN             NaN   \n",
       "7                 NaN              NaN               NaN             NaN   \n",
       "8                 NaN              NaN               NaN             NaN   \n",
       "9                 NaN              NaN               NaN             NaN   \n",
       "\n",
       "   SF Find Neighborhoods  Current Police Districts  \\\n",
       "0                    NaN                       NaN   \n",
       "1                    NaN                       NaN   \n",
       "2                    NaN                       NaN   \n",
       "3                    NaN                       NaN   \n",
       "4                    NaN                       NaN   \n",
       "5                    NaN                       NaN   \n",
       "6                    NaN                       NaN   \n",
       "7                    NaN                       NaN   \n",
       "8                    NaN                       NaN   \n",
       "9                    NaN                       NaN   \n",
       "\n",
       "   Current Supervisor Districts  Analysis Neighborhoods  \n",
       "0                           NaN                     NaN  \n",
       "1                           NaN                     NaN  \n",
       "2                           NaN                     NaN  \n",
       "3                           NaN                     NaN  \n",
       "4                           NaN                     NaN  \n",
       "5                           NaN                     NaN  \n",
       "6                           NaN                     NaN  \n",
       "7                           NaN                     NaN  \n",
       "8                           NaN                     NaN  \n",
       "9                           NaN                     NaN  \n",
       "\n",
       "[10 rows x 23 columns]"
      ]
     },
     "execution_count": 95,
     "metadata": {},
     "output_type": "execute_result"
    }
   ],
   "source": [
    "library.head(10)"
   ]
  },
  {
   "cell_type": "code",
   "execution_count": 96,
   "metadata": {},
   "outputs": [
    {
     "data": {
      "text/plain": [
       "Patron Type Code                423448\n",
       "Patron Type Definition          423448\n",
       "Total Checkouts                 423448\n",
       "Total Renewals                  423448\n",
       "Age Range                       423233\n",
       "Home Library Code               423408\n",
       "Home Library Definition         423448\n",
       "Circulation Active Month        423448\n",
       "Circulation Active Year         423448\n",
       "Notice Preference Code          423448\n",
       "Notice Preference Definition    423448\n",
       "Provided Email Address          423448\n",
       "Year Patron Registered          423448\n",
       "Outside of County               423448\n",
       "Supervisor District             313138\n",
       "Location (address)                   0\n",
       "Location (city)                      0\n",
       "Location (state)                     0\n",
       "Location (zip)                       0\n",
       "SF Find Neighborhoods                0\n",
       "Current Police Districts             0\n",
       "Current Supervisor Districts         0\n",
       "Analysis Neighborhoods               0\n",
       "dtype: int64"
      ]
     },
     "execution_count": 96,
     "metadata": {},
     "output_type": "execute_result"
    }
   ],
   "source": [
    "library.count()"
   ]
  },
  {
   "cell_type": "code",
   "execution_count": 97,
   "metadata": {
    "colab": {
     "base_uri": "https://localhost:8080/",
     "height": 34
    },
    "colab_type": "code",
    "executionInfo": {
     "elapsed": 428,
     "status": "ok",
     "timestamp": 1556675349286,
     "user": {
      "displayName": "Lívia Ruback",
      "photoUrl": "https://lh6.googleusercontent.com/-_vpLCTfwUeI/AAAAAAAAAAI/AAAAAAAAGmA/mwpOOQqv9WU/s64/photo.jpg",
      "userId": "01191604904967317013"
     },
     "user_tz": 420
    },
    "id": "DhT79C78FKYA",
    "outputId": "3ed47136-aa3c-4571-da51-e2fc33221c1e"
   },
   "outputs": [
    {
     "data": {
      "text/plain": [
       "(423448, 23)"
      ]
     },
     "execution_count": 97,
     "metadata": {},
     "output_type": "execute_result"
    }
   ],
   "source": [
    "library.shape"
   ]
  },
  {
   "cell_type": "code",
   "execution_count": 98,
   "metadata": {
    "colab": {
     "base_uri": "https://localhost:8080/",
     "height": 297
    },
    "colab_type": "code",
    "executionInfo": {
     "elapsed": 325,
     "status": "ok",
     "timestamp": 1556675360019,
     "user": {
      "displayName": "Lívia Ruback",
      "photoUrl": "https://lh6.googleusercontent.com/-_vpLCTfwUeI/AAAAAAAAAAI/AAAAAAAAGmA/mwpOOQqv9WU/s64/photo.jpg",
      "userId": "01191604904967317013"
     },
     "user_tz": 420
    },
    "id": "NznUeJ6EFOV7",
    "outputId": "615e134a-9bd9-4836-dc6e-d6ace3466d06"
   },
   "outputs": [
    {
     "data": {
      "text/html": [
       "<div>\n",
       "<style>\n",
       "    .dataframe thead tr:only-child th {\n",
       "        text-align: right;\n",
       "    }\n",
       "\n",
       "    .dataframe thead th {\n",
       "        text-align: left;\n",
       "    }\n",
       "\n",
       "    .dataframe tbody tr th {\n",
       "        vertical-align: top;\n",
       "    }\n",
       "</style>\n",
       "<table border=\"1\" class=\"dataframe\">\n",
       "  <thead>\n",
       "    <tr style=\"text-align: right;\">\n",
       "      <th></th>\n",
       "      <th>Patron Type Code</th>\n",
       "      <th>Total Checkouts</th>\n",
       "      <th>Total Renewals</th>\n",
       "      <th>Year Patron Registered</th>\n",
       "      <th>Supervisor District</th>\n",
       "      <th>Location (address)</th>\n",
       "      <th>Location (city)</th>\n",
       "      <th>Location (state)</th>\n",
       "      <th>Location (zip)</th>\n",
       "      <th>SF Find Neighborhoods</th>\n",
       "      <th>Current Police Districts</th>\n",
       "      <th>Current Supervisor Districts</th>\n",
       "      <th>Analysis Neighborhoods</th>\n",
       "    </tr>\n",
       "  </thead>\n",
       "  <tbody>\n",
       "    <tr>\n",
       "      <th>count</th>\n",
       "      <td>423448.000000</td>\n",
       "      <td>423448.000000</td>\n",
       "      <td>423448.000000</td>\n",
       "      <td>423448.000000</td>\n",
       "      <td>313138.000000</td>\n",
       "      <td>0.0</td>\n",
       "      <td>0.0</td>\n",
       "      <td>0.0</td>\n",
       "      <td>0.0</td>\n",
       "      <td>0.0</td>\n",
       "      <td>0.0</td>\n",
       "      <td>0.0</td>\n",
       "      <td>0.0</td>\n",
       "    </tr>\n",
       "    <tr>\n",
       "      <th>mean</th>\n",
       "      <td>1.036765</td>\n",
       "      <td>161.982097</td>\n",
       "      <td>59.657327</td>\n",
       "      <td>2010.348917</td>\n",
       "      <td>6.288240</td>\n",
       "      <td>NaN</td>\n",
       "      <td>NaN</td>\n",
       "      <td>NaN</td>\n",
       "      <td>NaN</td>\n",
       "      <td>NaN</td>\n",
       "      <td>NaN</td>\n",
       "      <td>NaN</td>\n",
       "      <td>NaN</td>\n",
       "    </tr>\n",
       "    <tr>\n",
       "      <th>std</th>\n",
       "      <td>4.188198</td>\n",
       "      <td>453.703678</td>\n",
       "      <td>225.009917</td>\n",
       "      <td>4.357374</td>\n",
       "      <td>3.123634</td>\n",
       "      <td>NaN</td>\n",
       "      <td>NaN</td>\n",
       "      <td>NaN</td>\n",
       "      <td>NaN</td>\n",
       "      <td>NaN</td>\n",
       "      <td>NaN</td>\n",
       "      <td>NaN</td>\n",
       "      <td>NaN</td>\n",
       "    </tr>\n",
       "    <tr>\n",
       "      <th>min</th>\n",
       "      <td>0.000000</td>\n",
       "      <td>0.000000</td>\n",
       "      <td>0.000000</td>\n",
       "      <td>2003.000000</td>\n",
       "      <td>1.000000</td>\n",
       "      <td>NaN</td>\n",
       "      <td>NaN</td>\n",
       "      <td>NaN</td>\n",
       "      <td>NaN</td>\n",
       "      <td>NaN</td>\n",
       "      <td>NaN</td>\n",
       "      <td>NaN</td>\n",
       "      <td>NaN</td>\n",
       "    </tr>\n",
       "    <tr>\n",
       "      <th>25%</th>\n",
       "      <td>0.000000</td>\n",
       "      <td>2.000000</td>\n",
       "      <td>0.000000</td>\n",
       "      <td>2007.000000</td>\n",
       "      <td>4.000000</td>\n",
       "      <td>NaN</td>\n",
       "      <td>NaN</td>\n",
       "      <td>NaN</td>\n",
       "      <td>NaN</td>\n",
       "      <td>NaN</td>\n",
       "      <td>NaN</td>\n",
       "      <td>NaN</td>\n",
       "      <td>NaN</td>\n",
       "    </tr>\n",
       "    <tr>\n",
       "      <th>50%</th>\n",
       "      <td>0.000000</td>\n",
       "      <td>19.000000</td>\n",
       "      <td>2.000000</td>\n",
       "      <td>2012.000000</td>\n",
       "      <td>6.000000</td>\n",
       "      <td>NaN</td>\n",
       "      <td>NaN</td>\n",
       "      <td>NaN</td>\n",
       "      <td>NaN</td>\n",
       "      <td>NaN</td>\n",
       "      <td>NaN</td>\n",
       "      <td>NaN</td>\n",
       "      <td>NaN</td>\n",
       "    </tr>\n",
       "    <tr>\n",
       "      <th>75%</th>\n",
       "      <td>1.000000</td>\n",
       "      <td>113.000000</td>\n",
       "      <td>27.000000</td>\n",
       "      <td>2014.000000</td>\n",
       "      <td>9.000000</td>\n",
       "      <td>NaN</td>\n",
       "      <td>NaN</td>\n",
       "      <td>NaN</td>\n",
       "      <td>NaN</td>\n",
       "      <td>NaN</td>\n",
       "      <td>NaN</td>\n",
       "      <td>NaN</td>\n",
       "      <td>NaN</td>\n",
       "    </tr>\n",
       "    <tr>\n",
       "      <th>max</th>\n",
       "      <td>104.000000</td>\n",
       "      <td>35907.000000</td>\n",
       "      <td>8965.000000</td>\n",
       "      <td>2016.000000</td>\n",
       "      <td>11.000000</td>\n",
       "      <td>NaN</td>\n",
       "      <td>NaN</td>\n",
       "      <td>NaN</td>\n",
       "      <td>NaN</td>\n",
       "      <td>NaN</td>\n",
       "      <td>NaN</td>\n",
       "      <td>NaN</td>\n",
       "      <td>NaN</td>\n",
       "    </tr>\n",
       "  </tbody>\n",
       "</table>\n",
       "</div>"
      ],
      "text/plain": [
       "       Patron Type Code  Total Checkouts  Total Renewals  \\\n",
       "count     423448.000000    423448.000000   423448.000000   \n",
       "mean           1.036765       161.982097       59.657327   \n",
       "std            4.188198       453.703678      225.009917   \n",
       "min            0.000000         0.000000        0.000000   \n",
       "25%            0.000000         2.000000        0.000000   \n",
       "50%            0.000000        19.000000        2.000000   \n",
       "75%            1.000000       113.000000       27.000000   \n",
       "max          104.000000     35907.000000     8965.000000   \n",
       "\n",
       "       Year Patron Registered  Supervisor District  Location (address)  \\\n",
       "count           423448.000000        313138.000000                 0.0   \n",
       "mean              2010.348917             6.288240                 NaN   \n",
       "std                  4.357374             3.123634                 NaN   \n",
       "min               2003.000000             1.000000                 NaN   \n",
       "25%               2007.000000             4.000000                 NaN   \n",
       "50%               2012.000000             6.000000                 NaN   \n",
       "75%               2014.000000             9.000000                 NaN   \n",
       "max               2016.000000            11.000000                 NaN   \n",
       "\n",
       "       Location (city)  Location (state)  Location (zip)  \\\n",
       "count              0.0               0.0             0.0   \n",
       "mean               NaN               NaN             NaN   \n",
       "std                NaN               NaN             NaN   \n",
       "min                NaN               NaN             NaN   \n",
       "25%                NaN               NaN             NaN   \n",
       "50%                NaN               NaN             NaN   \n",
       "75%                NaN               NaN             NaN   \n",
       "max                NaN               NaN             NaN   \n",
       "\n",
       "       SF Find Neighborhoods  Current Police Districts  \\\n",
       "count                    0.0                       0.0   \n",
       "mean                     NaN                       NaN   \n",
       "std                      NaN                       NaN   \n",
       "min                      NaN                       NaN   \n",
       "25%                      NaN                       NaN   \n",
       "50%                      NaN                       NaN   \n",
       "75%                      NaN                       NaN   \n",
       "max                      NaN                       NaN   \n",
       "\n",
       "       Current Supervisor Districts  Analysis Neighborhoods  \n",
       "count                           0.0                     0.0  \n",
       "mean                            NaN                     NaN  \n",
       "std                             NaN                     NaN  \n",
       "min                             NaN                     NaN  \n",
       "25%                             NaN                     NaN  \n",
       "50%                             NaN                     NaN  \n",
       "75%                             NaN                     NaN  \n",
       "max                             NaN                     NaN  "
      ]
     },
     "execution_count": 98,
     "metadata": {},
     "output_type": "execute_result"
    }
   ],
   "source": [
    "library.describe()"
   ]
  },
  {
   "cell_type": "code",
   "execution_count": 99,
   "metadata": {
    "colab": {},
    "colab_type": "code",
    "id": "D9jJPvglFfKl"
   },
   "outputs": [],
   "source": [
    "import matplotlib.pyplot as plt\n",
    "import seaborn as sns"
   ]
  },
  {
   "cell_type": "markdown",
   "metadata": {},
   "source": [
    "## Distribution of usage by year\n"
   ]
  },
  {
   "cell_type": "code",
   "execution_count": 100,
   "metadata": {},
   "outputs": [
    {
     "data": {
      "image/png": "[encoded data removed]",
      "text/plain": [
       "<matplotlib.figure.Figure at 0x10b714eb8>"
      ]
     },
     "metadata": {},
     "output_type": "display_data"
    }
   ],
   "source": [
    "# Bar chart with pandas\n",
    "library['Circulation Active Year'].value_counts().plot(kind='bar')\n",
    "plt.show()"
   ]
  },
  {
   "cell_type": "markdown",
   "metadata": {},
   "source": [
    "## Distribution of usage by range of ages"
   ]
  },
  {
   "cell_type": "code",
   "execution_count": 101,
   "metadata": {
    "colab": {
     "base_uri": "https://localhost:8080/",
     "height": 342
    },
    "colab_type": "code",
    "executionInfo": {
     "elapsed": 606,
     "status": "ok",
     "timestamp": 1556675680297,
     "user": {
      "displayName": "Lívia Ruback",
      "photoUrl": "https://lh6.googleusercontent.com/-_vpLCTfwUeI/AAAAAAAAAAI/AAAAAAAAGmA/mwpOOQqv9WU/s64/photo.jpg",
      "userId": "01191604904967317013"
     },
     "user_tz": 420
    },
    "id": "YL8ev4zsGO3a",
    "outputId": "30dff12c-2f10-49b8-9729-93906a63ca26"
   },
   "outputs": [
    {
     "data": {
      "image/png": "[encoded data removed]",
      "text/plain": [
       "<matplotlib.figure.Figure at 0x10a1da1d0>"
      ]
     },
     "metadata": {},
     "output_type": "display_data"
    }
   ],
   "source": [
    "# Bar chart with pandas\n",
    "library['Age Range'].value_counts().reindex(['0 to 9 years', '10 to 19 years', '20 to 24 years','25 to 34 years','35 to 44 years','45 to 54 years','55 to 64 years'\n",
    "        , '65 to 74 years','75 years and over']).plot(kind='bar')\n",
    "plt.show()"
   ]
  },
  {
   "cell_type": "code",
   "execution_count": 102,
   "metadata": {},
   "outputs": [
    {
     "data": {
      "image/png": "[encoded data removed]",
      "text/plain": [
       "<matplotlib.figure.Figure at 0x1a22f780f0>"
      ]
     },
     "metadata": {},
     "output_type": "display_data"
    }
   ],
   "source": [
    "# Pie chart with pandas\n",
    "library['Age Range'].value_counts().plot(kind='pie')\n",
    "plt.show()"
   ]
  },
  {
   "cell_type": "markdown",
   "metadata": {},
   "source": [
    "## Distribution of usage by library branch"
   ]
  },
  {
   "cell_type": "code",
   "execution_count": 103,
   "metadata": {},
   "outputs": [
    {
     "data": {
      "image/png": "[encoded data removed]",
      "text/plain": [
       "<matplotlib.figure.Figure at 0x10e70a9e8>"
      ]
     },
     "metadata": {},
     "output_type": "display_data"
    }
   ],
   "source": [
    "library['Home Library Definition'].value_counts().plot(kind='bar')\n",
    "plt.show()"
   ]
  },
  {
   "cell_type": "code",
   "execution_count": 105,
   "metadata": {
    "colab": {
     "base_uri": "https://localhost:8080/",
     "height": 439
    },
    "colab_type": "code",
    "executionInfo": {
     "elapsed": 923,
     "status": "ok",
     "timestamp": 1556676029474,
     "user": {
      "displayName": "Lívia Ruback",
      "photoUrl": "https://lh6.googleusercontent.com/-_vpLCTfwUeI/AAAAAAAAAAI/AAAAAAAAGmA/mwpOOQqv9WU/s64/photo.jpg",
      "userId": "01191604904967317013"
     },
     "user_tz": 420
    },
    "id": "QXh_4kQQHc1I",
    "outputId": "0d6a996f-892e-42b3-b3a5-0af4fbc46d7e"
   },
   "outputs": [
    {
     "data": {
      "image/png": "[encoded data removed]",
      "text/plain": [
       "<matplotlib.figure.Figure at 0x10b67a518>"
      ]
     },
     "metadata": {},
     "output_type": "display_data"
    }
   ],
   "source": [
    "import seaborn as sns\n",
    "sns.set(style=\"whitegrid\")\n",
    "ax = sns.stripplot(x=library[\"Total Checkouts\"])\n",
    "plt.show()"
   ]
  },
  {
   "cell_type": "markdown",
   "metadata": {},
   "source": [
    "# Is there a correlation between the checouts and the renewals?"
   ]
  },
  {
   "cell_type": "code",
   "execution_count": 107,
   "metadata": {
    "colab": {},
    "colab_type": "code",
    "id": "tDo_oFmXIA4g"
   },
   "outputs": [
    {
     "data": {
      "image/png": "[encoded data removed]",
      "text/plain": [
       "<matplotlib.figure.Figure at 0x1a230074a8>"
      ]
     },
     "metadata": {},
     "output_type": "display_data"
    }
   ],
   "source": [
    "# Scatter Plot\n",
    "plt.scatter(library['Total Checkouts'], library['Total Renewals'])\n",
    "plt.show()"
   ]
  },
  {
   "cell_type": "markdown",
   "metadata": {},
   "source": [
    "# No correlation found!"
   ]
  },
  {
   "cell_type": "code",
   "execution_count": 86,
   "metadata": {},
   "outputs": [
    {
     "data": {
      "text/plain": [
       "Total Checkouts                 1.000000\n",
       "Total Renewals                  0.589362\n",
       "Patron Type Code                0.022971\n",
       "Supervisor District            -0.033413\n",
       "Provided Email Address         -0.035107\n",
       "Outside of County              -0.089593\n",
       "Year Patron Registered         -0.360100\n",
       "Location (address)                   NaN\n",
       "Location (city)                      NaN\n",
       "Location (state)                     NaN\n",
       "Location (zip)                       NaN\n",
       "SF Find Neighborhoods                NaN\n",
       "Current Police Districts             NaN\n",
       "Current Supervisor Districts         NaN\n",
       "Analysis Neighborhoods               NaN\n",
       "Name: Total Checkouts, dtype: float64"
      ]
     },
     "execution_count": 86,
     "metadata": {},
     "output_type": "execute_result"
    }
   ],
   "source": [
    "library.corr()['Total Checkouts'].sort_values(ascending=False)"
   ]
  }
 ],
 "metadata": {
  "colab": {
   "collapsed_sections": [],
   "name": "Copy of Attendee Intro to Visualizations with Python.ipynb",
   "provenance": [
    {
     "file_id": "1R4Oa163EKFoMIvuY8Hk4awWBp2XQCU48",
     "timestamp": 1556675047647
    },
    {
     "file_id": "1MojSd-jh5iJJwVrhYvumdZD-fhRvN7pc",
     "timestamp": 1537817860998
    },
    {
     "file_id": "1bcnnYbzQSPNHiBdlNNWOX0Hhf9i993E1",
     "timestamp": 1537474327347
    }
   ],
   "version": "0.3.2"
  },
  "kernelspec": {
   "display_name": "Python 3",
   "language": "python",
   "name": "python3"
  },
  "language_info": {
   "codemirror_mode": {
    "name": "ipython",
    "version": 3
   },
   "file_extension": ".py",
   "mimetype": "text/x-python",
   "name": "python",
   "nbconvert_exporter": "python",
   "pygments_lexer": "ipython3",
   "version": "3.6.0"
  }
 },
 "nbformat": 4,
 "nbformat_minor": 1
}
